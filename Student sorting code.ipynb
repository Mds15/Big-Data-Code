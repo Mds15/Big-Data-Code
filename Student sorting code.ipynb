{
 "cells": [
  {
   "cell_type": "code",
   "execution_count": null,
   "metadata": {
    "scrolled": true
   },
   "outputs": [],
   "source": [
    "# Import dataset\n",
    "import pandas as pd\n",
    "student = pd.read_csv('student-por.csv', sep=';')"
   ]
  },
  {
   "cell_type": "code",
   "execution_count": null,
   "metadata": {},
   "outputs": [],
   "source": [
    "# Binarize data\n",
    "student = student.get_dummies(student)"
   ]
  },
  {
   "cell_type": "code",
   "execution_count": null,
   "metadata": {},
   "outputs": [],
   "source": [
    "# Drop school based data\n",
    "student = student.drop(columns={'G1','G2','school_GP','school_MS','reason_home','reason_course',\n",
    "                                'reason_reputation','reason_other'})\n",
    "# Remove rows with zero G3 score\n",
    "student =  student['G3'] != 0"
   ]
  },
  {
   "cell_type": "code",
   "execution_count": null,
   "metadata": {},
   "outputs": [],
   "source": [
    "# Splitting the dataset into train, validation, test\n",
    "from sklearn.model_selection import train_test_split\n",
    "train, other = train_test_split(student, test_size=0.2, random_state=0)\n",
    "validation, test = train_test_split(other, test_size=0.5, random_state=0)"
   ]
  },
  {
   "cell_type": "code",
   "execution_count": null,
   "metadata": {},
   "outputs": [],
   "source": [
    "# Making 'Final Grade' the category to be predicted\n",
    "X_train = train.drop(columns=['G3'])\n",
    "y_train = train['G3']\n",
    "\n",
    "X_val = validation.drop(columns=['G3'])\n",
    "y_val = validation['G3']\n",
    "all_columns = X_train.columns"
   ]
  },
  {
   "cell_type": "code",
   "execution_count": null,
   "metadata": {},
   "outputs": [],
   "source": [
    "# Implementation of the lasso model\n",
    "from sklearn.metrics import accuracy_score\n",
    "from sklearn.linear_model import LogisticRegression\n",
    "from sklearn.metrics import accuracy_score, precision_score, recall_score, mean_absolute_error\n",
    "import numpy as np\n",
    "import warnings\n",
    "warnings.filterwarnings(\"ignore\")\n",
    "\n",
    "def my_fwd_selector(X_train, y_train, X_val, y_val):\n",
    "    print('=============== Begining forward selection =================')\n",
    "    cols = list(X_train.columns)\n",
    "    best_val_acc = 10\n",
    "    selected_vars = []\n",
    "    while len(cols) > 0:\n",
    "        print('Trying {} var models'.format(len(selected_vars) + 1))\n",
    "        candidate = None\n",
    "        for i in range(len(cols)):\n",
    "            current_vars = selected_vars.copy()\n",
    "            current_vars.append(cols[i])\n",
    "            if len(current_vars) == 1:\n",
    "                new_X_train = X_train[current_vars].values.reshape(-1, 1)\n",
    "                new_X_val = X_val[current_vars].values.reshape(-1, 1)\n",
    "            else:\n",
    "                new_X_train = X_train[current_vars]                \n",
    "                new_X_val = X_val[current_vars]\n",
    "            \n",
    "            mod = LogisticRegression(penalty='l1', C=1e9).fit(new_X_train, y_train)\n",
    "            val_acc = mean_absolute_error(y_val, mod.predict(new_X_val))\n",
    "            if best_val_acc - val_acc > 0:\n",
    "                candidate = cols[i]\n",
    "                best_val_acc = val_acc\n",
    "        if candidate is not None:\n",
    "            selected_vars.append(candidate)\n",
    "            cols.remove(candidate)\n",
    "            print('------- Adding {} to the model ---------'.format(candidate))\n",
    "        else:\n",
    "            break\n",
    "        print('Columns in current model: {}'.format(', '.join(selected_vars)))\n",
    "        print('Best mean absolute error: {}'.format(np.round(best_val_acc, 3)))"
   ]
  },
  {
   "cell_type": "code",
   "execution_count": null,
   "metadata": {},
   "outputs": [],
   "source": [
    "# Algorithm to select which column to add\n",
    "def select_column_to_add(X_train, y_train, X_val, y_val, columns_in_model, columns_to_test):\n",
    "    \n",
    "    column_best = None\n",
    "    columns_in_model = list(columns_in_model)\n",
    "    \n",
    "    if len(columns_in_model) == 0:\n",
    "        acc_best = 0\n",
    "    elif len(columns_in_model) == 1:\n",
    "        mod = LogisticRegression(penalty='l1', C=1e9).fit(X_train[columns_in_model].values.reshape(-1, 1), y_train)\n",
    "        acc_best = accuracy_score(y_val, mod.predict(X_val[columns_in_model].values.reshape(-1, 1)))\n",
    "    else:\n",
    "        mod = LogisticRegression(penalty='l1', C=1e9).fit(X_train[columns_in_model], y_train)\n",
    "        acc_best = accuracy_score(y_val, mod.predict(X_val[columns_in_model]))\n",
    "\n",
    "    \n",
    "    for column in columns_to_test:\n",
    "        mod = LogisticRegression(penalty='l1', C=1e9).fit(X_train[columns_in_model+[column]], y_train)\n",
    "        y_pred = mod.predict(X_val[columns_in_model+[column]])\n",
    "        acc = accuracy_score(y_val, y_pred)\n",
    "        \n",
    "        if acc - acc_best > 0:  # one of our stopping criteria\n",
    "            acc_best = acc\n",
    "            column_best = column\n",
    "        \n",
    "    if column_best is not None:  # the other stopping criteria\n",
    "        print('Adding {} to the model'.format(column_best))\n",
    "        print('The new Best mean absolute error is {}'.format(acc_best))\n",
    "        columns_in_model_updated = columns_in_model + [column_best]\n",
    "    else:\n",
    "        print('Did not add anything to the model')\n",
    "        columns_in_model_updated = columns_in_model\n",
    "    \n",
    "    return columns_in_model_updated, acc_best"
   ]
  },
  {
   "cell_type": "code",
   "execution_count": null,
   "metadata": {},
   "outputs": [],
   "source": [
    "# Print off of the key values\n",
    "selected_columns = my_fwd_selector(X_train, y_train, X_val, y_val)\n",
    "y_train_predicted = model.predict(X_train[selected_columns])\n",
    "y_val_predicted = model.predict(X_val[selected_columns])\n",
    "model = LogisticRegression(penalty='l1', C=1e9).fit(X_train[selected_columns], y_train)\n",
    "\n",
    "print('======= Accuracy  table =======')\n",
    "print('Training mean absolute error is:    {}'.format(mean_absolute_error(y_train, y_train_predicted)))\n",
    "print('Validation mean absolute error:  {}'.format(mean_absolute_error(y_val, y_val_predicted)))"
   ]
  }
 ],
 "metadata": {
  "kernelspec": {
   "display_name": "Python 3",
   "language": "python",
   "name": "python3"
  },
  "language_info": {
   "codemirror_mode": {
    "name": "ipython",
    "version": 3
   },
   "file_extension": ".py",
   "mimetype": "text/x-python",
   "name": "python",
   "nbconvert_exporter": "python",
   "pygments_lexer": "ipython3",
   "version": "3.7.3"
  }
 },
 "nbformat": 4,
 "nbformat_minor": 2
}
